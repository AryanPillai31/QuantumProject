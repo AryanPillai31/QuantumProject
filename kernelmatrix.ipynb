{
 "cells": [
  {
   "cell_type": "code",
   "execution_count": null,
   "metadata": {
    "vscode": {
     "languageId": "plaintext"
    }
   },
   "outputs": [],
   "source": [
    "import numpy as np\n",
    "from qiskit.circuit.library import ZZFeatureMap\n",
    "from qiskit_machine_learning.kernels import FidelityQuantumKernel\n",
    "from qiskit.primitives import Sampler, BackendSampler\n",
    "from qiskit_machine_learning.state_fidelities import ComputeUncompute\n",
    "from qiskit.providers.fake_provider import GenericBackendV2\n",
    "\n",
    "# Step 1: Define the number of qubits (same as feature dimension)\n",
    "num_qubits = 2\n",
    "\n",
    "# Step 2: Define the feature map (ZZ Feature Map)\n",
    "feature_map = ZZFeatureMap(feature_dimension=num_qubits, reps=2, entanglement=\"linear\")\n",
    "\n",
    "# Generate data points\n",
    "x1 = np.array([0.5, 1.0])   # Original point\n",
    "x2 = np.array([0.8, 0.2])   # Different from x1\n",
    "x3 = np.array([0.52, 0.98]) # Very similar to x1\n",
    "x4 = np.array([0.49, 1.02]) # Very similar to x1\n",
    "x5 = np.array([0.1, 0.9])   # Different from x1\n",
    "x6 = np.array([0.8, 0.22])  # Slightly closer to x2\n",
    "\n",
    "# Create a dataset\n",
    "data = np.array([x1, x2, x3, x4, x5, x6])\n",
    "\n",
    "# Step 4: Use a Fake Backend (GenericBackendV2)\n",
    "backend = GenericBackendV2(num_qubits)\n",
    "sampler = BackendSampler(backend=backend)  # Use BackendSampler for execution\n",
    "\n",
    "# Step 5: Compute fidelity using ComputeUncompute\n",
    "fidelity = ComputeUncompute(sampler=sampler)\n",
    "\n",
    "# Step 6: Create the Fidelity Quantum Kernel\n",
    "quantum_kernel = FidelityQuantumKernel(fidelity=fidelity, feature_map=feature_map)\n",
    "\n",
    "# Step 7: Compute the Kernel Matrix\n",
    "kernel_matrix = quantum_kernel.evaluate(data)\n",
    "\n",
    "# Step 8: Output the Results\n",
    "print(\"Kernel Matrix:\\n\", kernel_matrix)\n"
   ]
  }
 ],
 "metadata": {
  "language_info": {
   "name": "python"
  }
 },
 "nbformat": 4,
 "nbformat_minor": 2
}
