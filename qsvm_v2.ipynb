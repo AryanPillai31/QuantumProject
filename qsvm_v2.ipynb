{
 "cells": [
  {
   "cell_type": "code",
   "execution_count": 1,
   "metadata": {},
   "outputs": [],
   "source": [
    "import time\n",
    "from sklearn.datasets import load_digits\n",
    "from sklearn.model_selection import train_test_split\n",
    "from sklearn.decomposition import PCA\n",
    "from sklearn.preprocessing import StandardScaler, MinMaxScaler\n",
    "from sklearn.svm import SVC\n",
    "from sklearn.metrics import accuracy_score\n",
    "import numpy as np\n",
    "import matplotlib.pyplot as plt\n",
    "from qiskit.circuit.library import ZZFeatureMap\n",
    "from qiskit_machine_learning.kernels import FidelityQuantumKernel\n",
    "from qiskit.primitives import Sampler\n",
    "from qiskit_machine_learning.state_fidelities import ComputeUncompute\n",
    "from qiskit.primitives import StatevectorSampler, BackendSamplerV2\n",
    "import os\n",
    "from qiskit_ibm_runtime import QiskitRuntimeService"
   ]
  },
  {
   "cell_type": "code",
   "execution_count": 2,
   "metadata": {},
   "outputs": [
    {
     "data": {
      "image/png": "[encoded data removed]",
      "text/plain": [
       "<Figure size 600x300 with 2 Axes>"
      ]
     },
     "metadata": {},
     "output_type": "display_data"
    },
    {
     "name": "stdout",
     "output_type": "stream",
     "text": [
      "Saved test_digits/digit_0.png and digit_1.png\n"
     ]
    }
   ],
   "source": [
    "# Load the digits dataset\n",
    "digits = load_digits(n_class=2)\n",
    "fig, axs = plt.subplots(1, 2, figsize=(6,3))\n",
    "axs[0].set_axis_off()\n",
    "axs[0].imshow(digits.images[0], cmap=plt.cm.gray_r, interpolation='nearest')\n",
    "axs[1].set_axis_off()\n",
    "axs[1].imshow(digits.images[1], cmap=plt.cm.gray_r, interpolation='nearest')\n",
    "plt.show()\n",
    "\n",
    "# Find one image of 0 and one of 1\n",
    "img_0 = next((img for img, label in zip(digits.images, digits.target) if label == 0), None)\n",
    "img_1 = next((img for img, label in zip(digits.images, digits.target) if label == 1), None)\n",
    "\n",
    "# Create output directory\n",
    "os.makedirs(\"test_digits\", exist_ok=True)\n",
    "\n",
    "# Save images\n",
    "plt.imsave(\"test_digits/digit_0.png\", img_0, cmap=\"gray\")\n",
    "plt.imsave(\"test_digits/digit_1.png\", img_1, cmap=\"gray\")\n",
    "\n",
    "print(\"Saved test_digits/digit_0.png and digit_1.png\")"
   ]
  },
  {
   "cell_type": "code",
   "execution_count": 3,
   "metadata": {},
   "outputs": [],
   "source": [
    "# Split dataset\n",
    "sample_train, sample_test, label_train, label_test = train_test_split(\n",
    "    digits.data, digits.target, test_size=0.2, random_state=22\n",
    ")\n",
    "\n",
    "# Reduce dimensions\n",
    "n_dim = 4\n",
    "pca = PCA(n_components=n_dim).fit(sample_train)\n",
    "sample_train = pca.transform(sample_train)\n",
    "sample_test = pca.transform(sample_test)\n",
    "\n",
    "# Normalize\n",
    "std_scale = StandardScaler().fit(sample_train)\n",
    "sample_train = std_scale.transform(sample_train)\n",
    "sample_test = std_scale.transform(sample_test)\n",
    "\n",
    "# Scale\n",
    "samples = np.append(sample_train, sample_test, axis=0)\n",
    "minmax_scale = MinMaxScaler((-1, 1)).fit(samples)\n",
    "sample_train = minmax_scale.transform(sample_train)\n",
    "sample_test = minmax_scale.transform(sample_test)\n",
    "\n",
    "# Select\n",
    "train_size = 100\n",
    "sample_train = sample_train[:train_size]\n",
    "label_train = label_train[:train_size]\n",
    "\n",
    "test_size = 20\n",
    "sample_test = sample_test[:test_size]\n",
    "label_test = label_test[:test_size]"
   ]
  },
  {
   "cell_type": "code",
   "execution_count": 4,
   "metadata": {},
   "outputs": [
    {
     "data": {
      "text/plain": [
       "{'channel': 'ibm_quantum',\n",
       " 'url': 'https://auth.quantum.ibm.com/api',\n",
       " 'token': '7c2e5340c82a9cc6aae2a750b51b2af4317f94cdb6faf9769401b8cb603157f428e24b8e67bb9ddd2d60de82ba2f499727ba6824ee415f3a9ccf2d3b908a114c',\n",
       " 'verify': True,\n",
       " 'private_endpoint': False}"
      ]
     },
     "execution_count": 4,
     "metadata": {},
     "output_type": "execute_result"
    }
   ],
   "source": [
    "service = QiskitRuntimeService(channel=\"ibm_quantum\")\n",
    "service.active_account()"
   ]
  },
  {
   "cell_type": "code",
   "execution_count": 5,
   "metadata": {},
   "outputs": [
    {
     "name": "stdout",
     "output_type": "stream",
     "text": [
      "ibm_brisbane\n",
      "ibm_sherbrooke\n",
      "Execution Time: 130.5646 seconds\n",
      "Test Accuracy: 0.9000\n"
     ]
    }
   ],
   "source": [
    "map_zz = ZZFeatureMap(feature_dimension=4, reps=2, entanglement='linear', insert_barriers=True)\n",
    "\n",
    "\n",
    "for backend in service.backends(simulator=False):\n",
    "    print(backend.name)\n",
    "\n",
    "backend = service.backend(\"ibm_brisbane\")\n",
    "\n",
    "# Define a sampler\n",
    "sampler = StatevectorSampler()\n",
    "\n",
    "# Use ComputeUncompute fidelity method\n",
    "fidelity = ComputeUncompute(sampler=sampler)\n",
    "quantum_kernel = FidelityQuantumKernel(feature_map=map_zz, fidelity=fidelity)\n",
    "\n",
    "# Compute kernel matrix\n",
    "start_time = time.time()  # Start timer\n",
    "kernel_matrix = quantum_kernel.evaluate(sample_train)  # Run the function\n",
    "kernel_test = quantum_kernel.evaluate(sample_test, sample_train)\n",
    "end_time = time.time()  # End timer\n",
    "\n",
    "execution_time = end_time - start_time  # Calculate time taken\n",
    "print(f\"Execution Time: {execution_time:.4f} seconds\")\n",
    "\n",
    "svm = SVC(kernel=\"precomputed\")\n",
    "svm.fit(kernel_matrix, label_train)\n",
    "\n",
    "# store the model parameters in db\n",
    "\n",
    "y_pred = svm.predict(kernel_test)\n",
    "accuracy = accuracy_score(label_test, y_pred)\n",
    "\n",
    "print(f\"Test Accuracy: {accuracy:.4f}\")"
   ]
  },
  {
   "cell_type": "code",
   "execution_count": null,
   "metadata": {},
   "outputs": [],
   "source": [
    "def load_data(data_dir):\n",
    "    images = []\n",
    "    labels = []\n",
    "\n",
    "    for label in os.listdir(data_dir):\n",
    "        for img in os.listdir(os.path.join(data_dir, label)):\n",
    "            img_path = os.path.join(data_dir, label, img)\n",
    "            img = cv2.imread(img_path, cv2.IMREAD_GRAYSCALE)\n",
    "            img = cv2.resize(img, (64, 64))\n",
    "            images.append(img.flatten())\n",
    "            labels.append(0 if label == 'no_tumor' else 1)\n",
    "\n",
    "    return np.array(images), np.array(labels)"
   ]
  }
 ],
 "metadata": {
  "kernelspec": {
   "display_name": "qiskit_env",
   "language": "python",
   "name": "python3"
  },
  "language_info": {
   "codemirror_mode": {
    "name": "ipython",
    "version": 3
   },
   "file_extension": ".py",
   "mimetype": "text/x-python",
   "name": "python",
   "nbconvert_exporter": "python",
   "pygments_lexer": "ipython3",
   "version": "3.13.2"
  }
 },
 "nbformat": 4,
 "nbformat_minor": 2
}
