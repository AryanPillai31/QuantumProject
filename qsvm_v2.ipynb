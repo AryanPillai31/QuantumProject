{
 "cells": [
  {
   "cell_type": "code",
   "execution_count": 9,
   "metadata": {},
   "outputs": [],
   "source": [
    "import time\n",
    "from sklearn.datasets import load_digits\n",
    "from sklearn.model_selection import train_test_split\n",
    "from sklearn.decomposition import PCA\n",
    "from sklearn.preprocessing import StandardScaler, MinMaxScaler\n",
    "from sklearn.svm import SVC\n",
    "from sklearn.metrics import accuracy_score\n",
    "import numpy as np\n",
    "import matplotlib.pyplot as plt\n",
    "from qiskit.circuit.library import ZZFeatureMap\n",
    "from qiskit_machine_learning.kernels import FidelityQuantumKernel\n",
    "from qiskit.primitives import Sampler\n",
    "from qiskit_machine_learning.state_fidelities import ComputeUncompute\n",
    "from qiskit.primitives import StatevectorSampler, BackendSamplerV2\n",
    "import os\n",
    "from qiskit_ibm_runtime import QiskitRuntimeService"
   ]
  },
  {
   "cell_type": "code",
   "execution_count": 10,
   "metadata": {},
   "outputs": [
    {
     "data": {
      "image/png": "[encoded data removed]",
      "text/plain": [
       "<Figure size 600x300 with 2 Axes>"
      ]
     },
     "metadata": {},
     "output_type": "display_data"
    },
    {
     "name": "stdout",
     "output_type": "stream",
     "text": [
      "Saved test_digits/digit_0.png and digit_1.png\n"
     ]
    }
   ],
   "source": [
    "# Load the digits dataset\n",
    "digits = load_digits(n_class=2)\n",
    "fig, axs = plt.subplots(1, 2, figsize=(6,3))\n",
    "axs[0].set_axis_off()\n",
    "axs[0].imshow(digits.images[0], cmap=plt.cm.gray_r, interpolation='nearest')\n",
    "axs[1].set_axis_off()\n",
    "axs[1].imshow(digits.images[1], cmap=plt.cm.gray_r, interpolation='nearest')\n",
    "plt.show()\n",
    "\n",
    "# Find one image of 0 and one of 1\n",
    "img_0 = next((img for img, label in zip(digits.images, digits.target) if label == 0), None)\n",
    "img_1 = next((img for img, label in zip(digits.images, digits.target) if label == 1), None)\n",
    "\n",
    "# Create output directory\n",
    "os.makedirs(\"test_digits\", exist_ok=True)\n",
    "\n",
    "# Save images\n",
    "plt.imsave(\"test_digits/digit_0.png\", img_0, cmap=\"gray\")\n",
    "plt.imsave(\"test_digits/digit_1.png\", img_1, cmap=\"gray\")\n",
    "\n",
    "print(\"Saved test_digits/digit_0.png and digit_1.png\")"
   ]
  },
  {
   "cell_type": "code",
   "execution_count": 11,
   "metadata": {},
   "outputs": [],
   "source": [
    "# Split dataset\n",
    "sample_train, sample_test, label_train, label_test = train_test_split(\n",
    "    digits.data, digits.target, test_size=0.2, random_state=22\n",
    ")\n",
    "\n",
    "# Reduce dimensions\n",
    "n_dim = 4\n",
    "pca = PCA(n_components=n_dim).fit(sample_train)\n",
    "sample_train = pca.transform(sample_train)\n",
    "sample_test = pca.transform(sample_test)\n",
    "\n",
    "# Normalize\n",
    "std_scale = StandardScaler().fit(sample_train)\n",
    "sample_train = std_scale.transform(sample_train)\n",
    "sample_test = std_scale.transform(sample_test)\n",
    "\n",
    "# Scale\n",
    "samples = np.append(sample_train, sample_test, axis=0)\n",
    "minmax_scale = MinMaxScaler((-1, 1)).fit(samples)\n",
    "sample_train = minmax_scale.transform(sample_train)\n",
    "sample_test = minmax_scale.transform(sample_test)\n",
    "\n",
    "# Select\n",
    "train_size = 100\n",
    "sample_train = sample_train[:train_size]\n",
    "label_train = label_train[:train_size]\n",
    "\n",
    "test_size = 20\n",
    "sample_test = sample_test[:test_size]\n",
    "label_test = label_test[:test_size]"
   ]
  },
  {
   "cell_type": "code",
   "execution_count": 13,
   "metadata": {},
   "outputs": [
    {
     "data": {
      "text/plain": [
       "{'channel': 'ibm_quantum',\n",
       " 'url': 'https://auth.quantum.ibm.com/api',\n",
       " 'token': '7c2e5340c82a9cc6aae2a750b51b2af4317f94cdb6faf9769401b8cb603157f428e24b8e67bb9ddd2d60de82ba2f499727ba6824ee415f3a9ccf2d3b908a114c',\n",
       " 'verify': True,\n",
       " 'private_endpoint': False}"
      ]
     },
     "execution_count": 13,
     "metadata": {},
     "output_type": "execute_result"
    }
   ],
   "source": [
    "service = QiskitRuntimeService(channel=\"ibm_quantum\")\n",
    "service.active_account()"
   ]
  },
  {
   "cell_type": "code",
   "execution_count": 16,
   "metadata": {},
   "outputs": [
    {
     "name": "stdout",
     "output_type": "stream",
     "text": [
      "ibm_brisbane\n",
      "ibm_kyiv\n",
      "ibm_sherbrooke\n"
     ]
    },
    {
     "ename": "AlgorithmError",
     "evalue": "'Sampler job failed!'",
     "output_type": "error",
     "traceback": [
      "\u001b[1;31m---------------------------------------------------------------------------\u001b[0m",
      "\u001b[1;31mIBMBackendError\u001b[0m                           Traceback (most recent call last)",
      "File \u001b[1;32mc:\\Users\\Akram\\anaconda3\\envs\\qiskit_env\\Lib\\site-packages\\qiskit_machine_learning\\state_fidelities\\compute_uncompute.py:222\u001b[0m, in \u001b[0;36mComputeUncompute._call\u001b[1;34m(job, circuits, local, local_opts, _sampler, _post_process_v2, num_virtual_qubits)\u001b[0m\n\u001b[0;32m    221\u001b[0m \u001b[38;5;28;01mtry\u001b[39;00m:\n\u001b[1;32m--> 222\u001b[0m     result \u001b[38;5;241m=\u001b[39m job\u001b[38;5;241m.\u001b[39mresult()\n\u001b[0;32m    223\u001b[0m \u001b[38;5;28;01mexcept\u001b[39;00m \u001b[38;5;167;01mException\u001b[39;00m \u001b[38;5;28;01mas\u001b[39;00m exc:\n",
      "File \u001b[1;32mc:\\Users\\Akram\\anaconda3\\envs\\qiskit_env\\Lib\\site-packages\\qiskit\\primitives\\primitive_job.py:51\u001b[0m, in \u001b[0;36mPrimitiveJob.result\u001b[1;34m(self)\u001b[0m\n\u001b[0;32m     50\u001b[0m \u001b[38;5;28mself\u001b[39m\u001b[38;5;241m.\u001b[39m_check_submitted()\n\u001b[1;32m---> 51\u001b[0m \u001b[38;5;28;01mreturn\u001b[39;00m \u001b[38;5;28mself\u001b[39m\u001b[38;5;241m.\u001b[39m_future\u001b[38;5;241m.\u001b[39mresult()\n",
      "File \u001b[1;32mc:\\Users\\Akram\\anaconda3\\envs\\qiskit_env\\Lib\\concurrent\\futures\\_base.py:456\u001b[0m, in \u001b[0;36mFuture.result\u001b[1;34m(self, timeout)\u001b[0m\n\u001b[0;32m    455\u001b[0m \u001b[38;5;28;01melif\u001b[39;00m \u001b[38;5;28mself\u001b[39m\u001b[38;5;241m.\u001b[39m_state \u001b[38;5;241m==\u001b[39m FINISHED:\n\u001b[1;32m--> 456\u001b[0m     \u001b[38;5;28;01mreturn\u001b[39;00m \u001b[38;5;28mself\u001b[39m\u001b[38;5;241m.\u001b[39m__get_result()\n\u001b[0;32m    457\u001b[0m \u001b[38;5;28;01melse\u001b[39;00m:\n",
      "File \u001b[1;32mc:\\Users\\Akram\\anaconda3\\envs\\qiskit_env\\Lib\\concurrent\\futures\\_base.py:401\u001b[0m, in \u001b[0;36mFuture.__get_result\u001b[1;34m(self)\u001b[0m\n\u001b[0;32m    400\u001b[0m \u001b[38;5;28;01mtry\u001b[39;00m:\n\u001b[1;32m--> 401\u001b[0m     \u001b[38;5;28;01mraise\u001b[39;00m \u001b[38;5;28mself\u001b[39m\u001b[38;5;241m.\u001b[39m_exception\n\u001b[0;32m    402\u001b[0m \u001b[38;5;28;01mfinally\u001b[39;00m:\n\u001b[0;32m    403\u001b[0m     \u001b[38;5;66;03m# Break a reference cycle with the exception in self._exception\u001b[39;00m\n",
      "File \u001b[1;32mc:\\Users\\Akram\\anaconda3\\envs\\qiskit_env\\Lib\\concurrent\\futures\\thread.py:59\u001b[0m, in \u001b[0;36m_WorkItem.run\u001b[1;34m(self)\u001b[0m\n\u001b[0;32m     58\u001b[0m \u001b[38;5;28;01mtry\u001b[39;00m:\n\u001b[1;32m---> 59\u001b[0m     result \u001b[38;5;241m=\u001b[39m \u001b[38;5;28mself\u001b[39m\u001b[38;5;241m.\u001b[39mfn(\u001b[38;5;241m*\u001b[39m\u001b[38;5;28mself\u001b[39m\u001b[38;5;241m.\u001b[39margs, \u001b[38;5;241m*\u001b[39m\u001b[38;5;241m*\u001b[39m\u001b[38;5;28mself\u001b[39m\u001b[38;5;241m.\u001b[39mkwargs)\n\u001b[0;32m     60\u001b[0m \u001b[38;5;28;01mexcept\u001b[39;00m \u001b[38;5;167;01mBaseException\u001b[39;00m \u001b[38;5;28;01mas\u001b[39;00m exc:\n",
      "File \u001b[1;32mc:\\Users\\Akram\\anaconda3\\envs\\qiskit_env\\Lib\\site-packages\\qiskit\\primitives\\backend_sampler_v2.py:173\u001b[0m, in \u001b[0;36mBackendSamplerV2._run\u001b[1;34m(self, pubs)\u001b[0m\n\u001b[0;32m    171\u001b[0m \u001b[38;5;28;01mfor\u001b[39;00m shots, lst \u001b[38;5;129;01min\u001b[39;00m pub_dict\u001b[38;5;241m.\u001b[39mitems():\n\u001b[0;32m    172\u001b[0m     \u001b[38;5;66;03m# run pubs with the same number of shots at once\u001b[39;00m\n\u001b[1;32m--> 173\u001b[0m     pub_results \u001b[38;5;241m=\u001b[39m \u001b[38;5;28mself\u001b[39m\u001b[38;5;241m.\u001b[39m_run_pubs([pubs[i] \u001b[38;5;28;01mfor\u001b[39;00m i \u001b[38;5;129;01min\u001b[39;00m lst], shots)\n\u001b[0;32m    174\u001b[0m     \u001b[38;5;66;03m# reconstruct the result of pubs\u001b[39;00m\n",
      "File \u001b[1;32mc:\\Users\\Akram\\anaconda3\\envs\\qiskit_env\\Lib\\site-packages\\qiskit\\primitives\\backend_sampler_v2.py:189\u001b[0m, in \u001b[0;36mBackendSamplerV2._run_pubs\u001b[1;34m(self, pubs, shots)\u001b[0m\n\u001b[0;32m    188\u001b[0m \u001b[38;5;66;03m# run circuits\u001b[39;00m\n\u001b[1;32m--> 189\u001b[0m results, _ \u001b[38;5;241m=\u001b[39m _run_circuits(\n\u001b[0;32m    190\u001b[0m     flatten_circuits,\n\u001b[0;32m    191\u001b[0m     \u001b[38;5;28mself\u001b[39m\u001b[38;5;241m.\u001b[39m_backend,\n\u001b[0;32m    192\u001b[0m     clear_metadata\u001b[38;5;241m=\u001b[39m\u001b[38;5;28;01mFalse\u001b[39;00m,\n\u001b[0;32m    193\u001b[0m     memory\u001b[38;5;241m=\u001b[39m\u001b[38;5;28;01mTrue\u001b[39;00m,\n\u001b[0;32m    194\u001b[0m     shots\u001b[38;5;241m=\u001b[39mshots,\n\u001b[0;32m    195\u001b[0m     seed_simulator\u001b[38;5;241m=\u001b[39m\u001b[38;5;28mself\u001b[39m\u001b[38;5;241m.\u001b[39m_options\u001b[38;5;241m.\u001b[39mseed_simulator,\n\u001b[0;32m    196\u001b[0m     \u001b[38;5;241m*\u001b[39m\u001b[38;5;241m*\u001b[39mrun_opts,\n\u001b[0;32m    197\u001b[0m )\n\u001b[0;32m    198\u001b[0m result_memory \u001b[38;5;241m=\u001b[39m _prepare_memory(results)\n",
      "File \u001b[1;32mc:\\Users\\Akram\\anaconda3\\envs\\qiskit_env\\Lib\\site-packages\\qiskit\\primitives\\backend_estimator.py:75\u001b[0m, in \u001b[0;36m_run_circuits\u001b[1;34m(circuits, backend, clear_metadata, **run_options)\u001b[0m\n",
      "File \u001b[1;32mc:\\Users\\Akram\\anaconda3\\envs\\qiskit_env\\Lib\\site-packages\\qiskit_ibm_runtime\\ibm_backend.py:561\u001b[0m, in \u001b[0;36mIBMBackend.run\u001b[1;34m(self, *args, **kwargs)\u001b[0m\n\u001b[0;32m    556\u001b[0m \u001b[38;5;250m\u001b[39m\u001b[38;5;124;03m\"\"\"\u001b[39;00m\n\u001b[0;32m    557\u001b[0m \u001b[38;5;124;03mRaises:\u001b[39;00m\n\u001b[0;32m    558\u001b[0m \u001b[38;5;124;03m    IBMBackendError: The run() method is no longer supported.\u001b[39;00m\n\u001b[0;32m    559\u001b[0m \n\u001b[0;32m    560\u001b[0m \u001b[38;5;124;03m\"\"\"\u001b[39;00m\n\u001b[1;32m--> 561\u001b[0m \u001b[38;5;28;01mraise\u001b[39;00m IBMBackendError(\n\u001b[0;32m    562\u001b[0m     \u001b[38;5;124m\"\u001b[39m\u001b[38;5;124mSupport for backend.run() has been removed. Please see our migration guide \u001b[39m\u001b[38;5;124m\"\u001b[39m\n\u001b[0;32m    563\u001b[0m     \u001b[38;5;124m\"\u001b[39m\u001b[38;5;124mhttps://docs.quantum.ibm.com/migration-guides/qiskit-runtime for instructions \u001b[39m\u001b[38;5;124m\"\u001b[39m\n\u001b[0;32m    564\u001b[0m     \u001b[38;5;124m\"\u001b[39m\u001b[38;5;124mon how to migrate to the primitives interface.\u001b[39m\u001b[38;5;124m\"\u001b[39m\n\u001b[0;32m    565\u001b[0m )\n",
      "\u001b[1;31mIBMBackendError\u001b[0m: 'Support for backend.run() has been removed. Please see our migration guide https://docs.quantum.ibm.com/migration-guides/qiskit-runtime for instructions on how to migrate to the primitives interface.'",
      "\nThe above exception was the direct cause of the following exception:\n",
      "\u001b[1;31mAlgorithmError\u001b[0m                            Traceback (most recent call last)",
      "Cell \u001b[1;32mIn[16], line 18\u001b[0m\n\u001b[0;32m     16\u001b[0m \u001b[38;5;66;03m# Compute kernel matrix\u001b[39;00m\n\u001b[0;32m     17\u001b[0m start_time \u001b[38;5;241m=\u001b[39m time\u001b[38;5;241m.\u001b[39mtime()  \u001b[38;5;66;03m# Start timer\u001b[39;00m\n\u001b[1;32m---> 18\u001b[0m kernel_matrix \u001b[38;5;241m=\u001b[39m quantum_kernel\u001b[38;5;241m.\u001b[39mevaluate(sample_train)  \u001b[38;5;66;03m# Run the function\u001b[39;00m\n\u001b[0;32m     19\u001b[0m kernel_test \u001b[38;5;241m=\u001b[39m quantum_kernel\u001b[38;5;241m.\u001b[39mevaluate(sample_test, sample_train)\n\u001b[0;32m     20\u001b[0m end_time \u001b[38;5;241m=\u001b[39m time\u001b[38;5;241m.\u001b[39mtime()  \u001b[38;5;66;03m# End timer\u001b[39;00m\n",
      "File \u001b[1;32mc:\\Users\\Akram\\anaconda3\\envs\\qiskit_env\\Lib\\site-packages\\qiskit_machine_learning\\kernels\\fidelity_quantum_kernel.py:114\u001b[0m, in \u001b[0;36mFidelityQuantumKernel.evaluate\u001b[1;34m(self, x_vec, y_vec)\u001b[0m\n\u001b[0;32m    112\u001b[0m \u001b[38;5;28;01mif\u001b[39;00m is_symmetric:\n\u001b[0;32m    113\u001b[0m     left_parameters, right_parameters, indices \u001b[38;5;241m=\u001b[39m \u001b[38;5;28mself\u001b[39m\u001b[38;5;241m.\u001b[39m_get_symmetric_parameterization(x_vec)\n\u001b[1;32m--> 114\u001b[0m     kernel_matrix \u001b[38;5;241m=\u001b[39m \u001b[38;5;28mself\u001b[39m\u001b[38;5;241m.\u001b[39m_get_symmetric_kernel_matrix(\n\u001b[0;32m    115\u001b[0m         kernel_shape, left_parameters, right_parameters, indices\n\u001b[0;32m    116\u001b[0m     )\n\u001b[0;32m    117\u001b[0m \u001b[38;5;28;01melse\u001b[39;00m:\n\u001b[0;32m    118\u001b[0m     left_parameters, right_parameters, indices \u001b[38;5;241m=\u001b[39m \u001b[38;5;28mself\u001b[39m\u001b[38;5;241m.\u001b[39m_get_parameterization(x_vec, y_vec)\n",
      "File \u001b[1;32mc:\\Users\\Akram\\anaconda3\\envs\\qiskit_env\\Lib\\site-packages\\qiskit_machine_learning\\kernels\\fidelity_quantum_kernel.py:208\u001b[0m, in \u001b[0;36mFidelityQuantumKernel._get_symmetric_kernel_matrix\u001b[1;34m(self, kernel_shape, left_parameters, right_parameters, indices)\u001b[0m\n\u001b[0;32m    198\u001b[0m \u001b[38;5;28;01mdef\u001b[39;00m \u001b[38;5;21m_get_symmetric_kernel_matrix\u001b[39m(\n\u001b[0;32m    199\u001b[0m     \u001b[38;5;28mself\u001b[39m,\n\u001b[0;32m    200\u001b[0m     kernel_shape: \u001b[38;5;28mtuple\u001b[39m[\u001b[38;5;28mint\u001b[39m, \u001b[38;5;28mint\u001b[39m],\n\u001b[1;32m   (...)\u001b[0m\n\u001b[0;32m    203\u001b[0m     indices: KernelIndices,\n\u001b[0;32m    204\u001b[0m ) \u001b[38;5;241m-\u001b[39m\u001b[38;5;241m>\u001b[39m np\u001b[38;5;241m.\u001b[39mndarray:\n\u001b[0;32m    205\u001b[0m \u001b[38;5;250m    \u001b[39m\u001b[38;5;124;03m\"\"\"\u001b[39;00m\n\u001b[0;32m    206\u001b[0m \u001b[38;5;124;03m    Given a set of parameterization, this computes the kernel matrix.\u001b[39;00m\n\u001b[0;32m    207\u001b[0m \u001b[38;5;124;03m    \"\"\"\u001b[39;00m\n\u001b[1;32m--> 208\u001b[0m     kernel_entries \u001b[38;5;241m=\u001b[39m \u001b[38;5;28mself\u001b[39m\u001b[38;5;241m.\u001b[39m_get_kernel_entries(left_parameters, right_parameters)\n\u001b[0;32m    209\u001b[0m     kernel_matrix \u001b[38;5;241m=\u001b[39m np\u001b[38;5;241m.\u001b[39mones(kernel_shape)\n\u001b[0;32m    211\u001b[0m     \u001b[38;5;28;01mfor\u001b[39;00m i, (col, row) \u001b[38;5;129;01min\u001b[39;00m \u001b[38;5;28menumerate\u001b[39m(indices):\n",
      "File \u001b[1;32mc:\\Users\\Akram\\anaconda3\\envs\\qiskit_env\\Lib\\site-packages\\qiskit_machine_learning\\kernels\\fidelity_quantum_kernel.py:235\u001b[0m, in \u001b[0;36mFidelityQuantumKernel._get_kernel_entries\u001b[1;34m(self, left_parameters, right_parameters)\u001b[0m\n\u001b[0;32m    228\u001b[0m \u001b[38;5;28;01mif\u001b[39;00m \u001b[38;5;28mself\u001b[39m\u001b[38;5;241m.\u001b[39mmax_circuits_per_job \u001b[38;5;129;01mis\u001b[39;00m \u001b[38;5;28;01mNone\u001b[39;00m:\n\u001b[0;32m    229\u001b[0m     job \u001b[38;5;241m=\u001b[39m \u001b[38;5;28mself\u001b[39m\u001b[38;5;241m.\u001b[39m_fidelity\u001b[38;5;241m.\u001b[39mrun(\n\u001b[0;32m    230\u001b[0m         [\u001b[38;5;28mself\u001b[39m\u001b[38;5;241m.\u001b[39m_feature_map] \u001b[38;5;241m*\u001b[39m num_circuits,\n\u001b[0;32m    231\u001b[0m         [\u001b[38;5;28mself\u001b[39m\u001b[38;5;241m.\u001b[39m_feature_map] \u001b[38;5;241m*\u001b[39m num_circuits,\n\u001b[0;32m    232\u001b[0m         left_parameters,  \u001b[38;5;66;03m# type: ignore[arg-type]\u001b[39;00m\n\u001b[0;32m    233\u001b[0m         right_parameters,  \u001b[38;5;66;03m# type: ignore[arg-type]\u001b[39;00m\n\u001b[0;32m    234\u001b[0m     )\n\u001b[1;32m--> 235\u001b[0m     kernel_entries \u001b[38;5;241m=\u001b[39m job\u001b[38;5;241m.\u001b[39mresult()\u001b[38;5;241m.\u001b[39mfidelities\n\u001b[0;32m    236\u001b[0m \u001b[38;5;28;01melse\u001b[39;00m:\n\u001b[0;32m    237\u001b[0m     \u001b[38;5;66;03m# Determine the number of chunks needed\u001b[39;00m\n\u001b[0;32m    238\u001b[0m     num_chunks \u001b[38;5;241m=\u001b[39m (\n\u001b[0;32m    239\u001b[0m         num_circuits \u001b[38;5;241m+\u001b[39m \u001b[38;5;28mself\u001b[39m\u001b[38;5;241m.\u001b[39mmax_circuits_per_job \u001b[38;5;241m-\u001b[39m \u001b[38;5;241m1\u001b[39m\n\u001b[0;32m    240\u001b[0m     ) \u001b[38;5;241m/\u001b[39m\u001b[38;5;241m/\u001b[39m \u001b[38;5;28mself\u001b[39m\u001b[38;5;241m.\u001b[39mmax_circuits_per_job\n",
      "File \u001b[1;32mc:\\Users\\Akram\\anaconda3\\envs\\qiskit_env\\Lib\\site-packages\\qiskit\\primitives\\primitive_job.py:51\u001b[0m, in \u001b[0;36mPrimitiveJob.result\u001b[1;34m(self)\u001b[0m\n\u001b[0;32m     49\u001b[0m \u001b[38;5;28;01mdef\u001b[39;00m \u001b[38;5;21mresult\u001b[39m(\u001b[38;5;28mself\u001b[39m) \u001b[38;5;241m-\u001b[39m\u001b[38;5;241m>\u001b[39m ResultT:\n\u001b[0;32m     50\u001b[0m     \u001b[38;5;28mself\u001b[39m\u001b[38;5;241m.\u001b[39m_check_submitted()\n\u001b[1;32m---> 51\u001b[0m     \u001b[38;5;28;01mreturn\u001b[39;00m \u001b[38;5;28mself\u001b[39m\u001b[38;5;241m.\u001b[39m_future\u001b[38;5;241m.\u001b[39mresult()\n",
      "File \u001b[1;32mc:\\Users\\Akram\\anaconda3\\envs\\qiskit_env\\Lib\\concurrent\\futures\\_base.py:456\u001b[0m, in \u001b[0;36mFuture.result\u001b[1;34m(self, timeout)\u001b[0m\n\u001b[0;32m    454\u001b[0m     \u001b[38;5;28;01mraise\u001b[39;00m CancelledError()\n\u001b[0;32m    455\u001b[0m \u001b[38;5;28;01melif\u001b[39;00m \u001b[38;5;28mself\u001b[39m\u001b[38;5;241m.\u001b[39m_state \u001b[38;5;241m==\u001b[39m FINISHED:\n\u001b[1;32m--> 456\u001b[0m     \u001b[38;5;28;01mreturn\u001b[39;00m \u001b[38;5;28mself\u001b[39m\u001b[38;5;241m.\u001b[39m__get_result()\n\u001b[0;32m    457\u001b[0m \u001b[38;5;28;01melse\u001b[39;00m:\n\u001b[0;32m    458\u001b[0m     \u001b[38;5;28;01mraise\u001b[39;00m \u001b[38;5;167;01mTimeoutError\u001b[39;00m()\n",
      "File \u001b[1;32mc:\\Users\\Akram\\anaconda3\\envs\\qiskit_env\\Lib\\concurrent\\futures\\_base.py:401\u001b[0m, in \u001b[0;36mFuture.__get_result\u001b[1;34m(self)\u001b[0m\n\u001b[0;32m    399\u001b[0m \u001b[38;5;28;01mif\u001b[39;00m \u001b[38;5;28mself\u001b[39m\u001b[38;5;241m.\u001b[39m_exception:\n\u001b[0;32m    400\u001b[0m     \u001b[38;5;28;01mtry\u001b[39;00m:\n\u001b[1;32m--> 401\u001b[0m         \u001b[38;5;28;01mraise\u001b[39;00m \u001b[38;5;28mself\u001b[39m\u001b[38;5;241m.\u001b[39m_exception\n\u001b[0;32m    402\u001b[0m     \u001b[38;5;28;01mfinally\u001b[39;00m:\n\u001b[0;32m    403\u001b[0m         \u001b[38;5;66;03m# Break a reference cycle with the exception in self._exception\u001b[39;00m\n\u001b[0;32m    404\u001b[0m         \u001b[38;5;28mself\u001b[39m \u001b[38;5;241m=\u001b[39m \u001b[38;5;28;01mNone\u001b[39;00m\n",
      "File \u001b[1;32mc:\\Users\\Akram\\anaconda3\\envs\\qiskit_env\\Lib\\concurrent\\futures\\thread.py:59\u001b[0m, in \u001b[0;36m_WorkItem.run\u001b[1;34m(self)\u001b[0m\n\u001b[0;32m     56\u001b[0m     \u001b[38;5;28;01mreturn\u001b[39;00m\n\u001b[0;32m     58\u001b[0m \u001b[38;5;28;01mtry\u001b[39;00m:\n\u001b[1;32m---> 59\u001b[0m     result \u001b[38;5;241m=\u001b[39m \u001b[38;5;28mself\u001b[39m\u001b[38;5;241m.\u001b[39mfn(\u001b[38;5;241m*\u001b[39m\u001b[38;5;28mself\u001b[39m\u001b[38;5;241m.\u001b[39margs, \u001b[38;5;241m*\u001b[39m\u001b[38;5;241m*\u001b[39m\u001b[38;5;28mself\u001b[39m\u001b[38;5;241m.\u001b[39mkwargs)\n\u001b[0;32m     60\u001b[0m \u001b[38;5;28;01mexcept\u001b[39;00m \u001b[38;5;167;01mBaseException\u001b[39;00m \u001b[38;5;28;01mas\u001b[39;00m exc:\n\u001b[0;32m     61\u001b[0m     \u001b[38;5;28mself\u001b[39m\u001b[38;5;241m.\u001b[39mfuture\u001b[38;5;241m.\u001b[39mset_exception(exc)\n",
      "File \u001b[1;32mc:\\Users\\Akram\\anaconda3\\envs\\qiskit_env\\Lib\\site-packages\\qiskit_machine_learning\\state_fidelities\\compute_uncompute.py:224\u001b[0m, in \u001b[0;36mComputeUncompute._call\u001b[1;34m(job, circuits, local, local_opts, _sampler, _post_process_v2, num_virtual_qubits)\u001b[0m\n\u001b[0;32m    222\u001b[0m     result \u001b[38;5;241m=\u001b[39m job\u001b[38;5;241m.\u001b[39mresult()\n\u001b[0;32m    223\u001b[0m \u001b[38;5;28;01mexcept\u001b[39;00m \u001b[38;5;167;01mException\u001b[39;00m \u001b[38;5;28;01mas\u001b[39;00m exc:\n\u001b[1;32m--> 224\u001b[0m     \u001b[38;5;28;01mraise\u001b[39;00m AlgorithmError(\u001b[38;5;124m\"\u001b[39m\u001b[38;5;124mSampler job failed!\u001b[39m\u001b[38;5;124m\"\u001b[39m) \u001b[38;5;28;01mfrom\u001b[39;00m \u001b[38;5;21;01mexc\u001b[39;00m\n\u001b[0;32m    226\u001b[0m \u001b[38;5;28;01mif\u001b[39;00m \u001b[38;5;28misinstance\u001b[39m(_sampler, BaseSamplerV1):\n\u001b[0;32m    227\u001b[0m     quasi_dists \u001b[38;5;241m=\u001b[39m result\u001b[38;5;241m.\u001b[39mquasi_dists\n",
      "\u001b[1;31mAlgorithmError\u001b[0m: 'Sampler job failed!'"
     ]
    }
   ],
   "source": [
    "map_zz = ZZFeatureMap(feature_dimension=4, reps=2, entanglement='linear', insert_barriers=True)\n",
    "\n",
    "\n",
    "for backend in service.backends(simulator=False):\n",
    "    print(backend.name)\n",
    "\n",
    "backend = service.backend(\"ibm_brisbane\")\n",
    "\n",
    "# Define a sampler\n",
    "sampler = BackendSamplerV2(backend=backend)\n",
    "\n",
    "# Use ComputeUncompute fidelity method\n",
    "fidelity = ComputeUncompute(sampler=sampler)\n",
    "quantum_kernel = FidelityQuantumKernel(feature_map=map_zz, fidelity=fidelity)\n",
    "\n",
    "# Compute kernel matrix\n",
    "start_time = time.time()  # Start timer\n",
    "kernel_matrix = quantum_kernel.evaluate(sample_train)  # Run the function\n",
    "kernel_test = quantum_kernel.evaluate(sample_test, sample_train)\n",
    "end_time = time.time()  # End timer\n",
    "\n",
    "execution_time = end_time - start_time  # Calculate time taken\n",
    "print(f\"Execution Time: {execution_time:.4f} seconds\")\n",
    "\n",
    "svm = SVC(kernel=\"precomputed\")\n",
    "svm.fit(kernel_matrix, label_train)\n",
    "\n",
    "# store the model parameters in db\n",
    "\n",
    "y_pred = svm.predict(kernel_test)\n",
    "accuracy = accuracy_score(label_test, y_pred)\n",
    "\n",
    "print(f\"Test Accuracy: {accuracy:.4f}\")"
   ]
  },
  {
   "cell_type": "code",
   "execution_count": null,
   "metadata": {},
   "outputs": [],
   "source": [
    "def load_data(data_dir):\n",
    "    images = []\n",
    "    labels = []\n",
    "\n",
    "    for label in os.listdir(data_dir):\n",
    "        for img in os.listdir(os.path.join(data_dir, label)):\n",
    "            img_path = os.path.join(data_dir, label, img)\n",
    "            img = cv2.imread(img_path, cv2.IMREAD_GRAYSCALE)\n",
    "            img = cv2.resize(img, (64, 64))\n",
    "            images.append(img.flatten())\n",
    "            labels.append(0 if label == 'no_tumor' else 1)\n",
    "\n",
    "    return np.array(images), np.array(labels)"
   ]
  }
 ],
 "metadata": {
  "kernelspec": {
   "display_name": "qiskit_env",
   "language": "python",
   "name": "python3"
  },
  "language_info": {
   "codemirror_mode": {
    "name": "ipython",
    "version": 3
   },
   "file_extension": ".py",
   "mimetype": "text/x-python",
   "name": "python",
   "nbconvert_exporter": "python",
   "pygments_lexer": "ipython3",
   "version": "3.13.2"
  }
 },
 "nbformat": 4,
 "nbformat_minor": 2
}
